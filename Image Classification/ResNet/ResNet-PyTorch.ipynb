{
 "cells": [
  {
   "cell_type": "code",
   "execution_count": 1,
   "metadata": {},
   "outputs": [
    {
     "name": "stderr",
     "output_type": "stream",
     "text": [
      "c:\\Users\\dagam\\AppData\\Local\\Programs\\Python\\Python311\\Lib\\site-packages\\tqdm\\auto.py:21: TqdmWarning: IProgress not found. Please update jupyter and ipywidgets. See https://ipywidgets.readthedocs.io/en/stable/user_install.html\n",
      "  from .autonotebook import tqdm as notebook_tqdm\n"
     ]
    },
    {
     "data": {
      "text/plain": [
       "'cuda'"
      ]
     },
     "execution_count": 1,
     "metadata": {},
     "output_type": "execute_result"
    }
   ],
   "source": [
    "import numpy as np\n",
    "import torch\n",
    "from torch import nn\n",
    "from torch.nn import functional as F\n",
    "from torchvision import datasets, transforms\n",
    "from torch.utils.data.sampler import SubsetRandomSampler\n",
    "from torch.utils.data import DataLoader\n",
    "from torchsummary import summary\n",
    "import gc\n",
    "\n",
    "device = 'cuda' if torch.cuda.is_available() else 'cpu'\n",
    "device"
   ]
  },
  {
   "cell_type": "code",
   "execution_count": 8,
   "metadata": {},
   "outputs": [
    {
     "name": "stdout",
     "output_type": "stream",
     "text": [
      "Files already downloaded and verified\n",
      "Files already downloaded and verified\n"
     ]
    }
   ],
   "source": [
    "transform = transforms.Compose([\n",
    "    transforms.Resize((224,224)),\n",
    "    transforms.ToTensor(),\n",
    "    transforms.Normalize(\n",
    "        mean=[0.4914, 0.4822, 0.4465],\n",
    "        std=[0.2023, 0.1994, 0.2010]\n",
    "    )\n",
    "])\n",
    "\n",
    "dataset = datasets.CIFAR10('data', train=True, download=True, transform=transform)\n",
    "\n",
    "split = int(np.floor(len(dataset) * 0.1))\n",
    "indices = list(range(len(dataset)))\n",
    "\n",
    "np.random.seed(42)\n",
    "np.random.shuffle(indices)\n",
    "\n",
    "train_index, val_index = indices[split:], indices[:split]\n",
    "train_sampler = SubsetRandomSampler(train_index)\n",
    "val_sampler = SubsetRandomSampler(val_index)\n",
    "\n",
    "train_loader = DataLoader(dataset, batch_size=64, sampler=train_sampler)\n",
    "valid_loader = DataLoader(dataset, batch_size=64, sampler=val_sampler)\n",
    "\n",
    "test_dataset = datasets.CIFAR10('data', train=False,download=True, transform=transform,)\n",
    "test_loader = DataLoader(test_dataset, batch_size=64, shuffle=False)"
   ]
  },
  {
   "cell_type": "code",
   "execution_count": 3,
   "metadata": {},
   "outputs": [],
   "source": [
    "class ResidualBlock(nn.Module):\n",
    "    def __init__(self, in_channels, out_channels, stride = 1, downsample = None):\n",
    "        super(ResidualBlock, self).__init__()\n",
    "        self.conv1 = nn.Sequential(\n",
    "                        nn.Conv2d(in_channels, out_channels, kernel_size = 3, stride = stride, padding = 1),\n",
    "                        nn.BatchNorm2d(out_channels),\n",
    "                        nn.ReLU())\n",
    "        self.conv2 = nn.Sequential(\n",
    "                        nn.Conv2d(out_channels, out_channels, kernel_size = 3, stride = 1, padding = 1),\n",
    "                        nn.BatchNorm2d(out_channels))\n",
    "        self.downsample = downsample\n",
    "        self.relu = nn.ReLU()\n",
    "        self.out_channels = out_channels\n",
    "        \n",
    "    def forward(self, x):\n",
    "        residual = x\n",
    "        out = self.conv1(x)\n",
    "        out = self.conv2(out)\n",
    "        if self.downsample:\n",
    "            residual = self.downsample(x)\n",
    "        out += residual\n",
    "        out = self.relu(out)\n",
    "        return out\n",
    "    \n",
    "class ResNet(nn.Module):\n",
    "    def __init__(self, block, layers, num_classes = 10):\n",
    "        super(ResNet, self).__init__()\n",
    "        self.inplanes = 64\n",
    "        self.conv1 = nn.Sequential(\n",
    "                        nn.Conv2d(3, 64, kernel_size = 7, stride = 2, padding = 3),\n",
    "                        nn.BatchNorm2d(64),\n",
    "                        nn.ReLU())\n",
    "        self.maxpool = nn.MaxPool2d(kernel_size = 3, stride = 2, padding = 1)\n",
    "        self.layer0 = self._make_layer(block, 64, layers[0], stride = 1)\n",
    "        self.layer1 = self._make_layer(block, 128, layers[1], stride = 2)\n",
    "        self.layer2 = self._make_layer(block, 256, layers[2], stride = 2)\n",
    "        self.layer3 = self._make_layer(block, 512, layers[3], stride = 2)\n",
    "        self.avgpool = nn.AvgPool2d(7, stride=1)\n",
    "        self.fc = nn.Linear(512, num_classes)\n",
    "        \n",
    "    def _make_layer(self, block, planes, blocks, stride=1):\n",
    "        downsample = None\n",
    "        if stride != 1 or self.inplanes != planes:\n",
    "            downsample = nn.Sequential(\n",
    "                nn.Conv2d(self.inplanes, planes, kernel_size=1, stride=stride),\n",
    "                nn.BatchNorm2d(planes),\n",
    "            )\n",
    "        layers = []\n",
    "        layers.append(block(self.inplanes, planes, stride, downsample))\n",
    "        self.inplanes = planes\n",
    "        for i in range(1, blocks):\n",
    "            layers.append(block(self.inplanes, planes))\n",
    "\n",
    "        return nn.Sequential(*layers)\n",
    "    \n",
    "    \n",
    "    def forward(self, x):\n",
    "        # print(f\"Shape Before Conv1: {x.shape}\")\n",
    "        x = self.conv1(x)\n",
    "        # print(f\"Shape after Conv1: {x.shape}\")\n",
    "        x = self.maxpool(x)\n",
    "        # print(f\"Shape after MaxPool: {x.shape}\")\n",
    "        x = self.layer0(x)\n",
    "        # print(f\"Shape after Layer0: {x.shape}\")\n",
    "        x = self.layer1(x)\n",
    "        # print(f\"Shape after Layer1: {x.shape}\")\n",
    "        x = self.layer2(x)\n",
    "        # print(f\"Shape after Layer2: {x.shape}\")\n",
    "        x = self.layer3(x)\n",
    "        # print(f\"Shape after Layer3: {x.shape}\")\n",
    "        x = self.avgpool(x)\n",
    "        # print(f\"Shape after avgpool: {x.shape}\")\n",
    "        x = x.view(x.size(0), -1)\n",
    "        # print(f\"Shape after x.view: {x.shape}\")\n",
    "        x = self.fc(x)\n",
    "        # print(f\"Shape after fc: {x.shape}\")\n",
    "\n",
    "        return x"
   ]
  },
  {
   "cell_type": "code",
   "execution_count": 4,
   "metadata": {},
   "outputs": [],
   "source": [
    "num_classes = 10\n",
    "num_epochs = 20\n",
    "batch_size = 16\n",
    "learning_rate = 0.01\n",
    "\n",
    "model = ResNet(ResidualBlock, [3, 4, 6, 3]).to(device)\n",
    "criterion = nn.CrossEntropyLoss()\n",
    "optimizer = torch.optim.SGD(params=model.parameters(), lr=learning_rate, weight_decay = 0.001, momentum = 0.9)  "
   ]
  },
  {
   "cell_type": "code",
   "execution_count": 5,
   "metadata": {},
   "outputs": [
    {
     "name": "stdout",
     "output_type": "stream",
     "text": [
      "----------------------------------------------------------------\n",
      "        Layer (type)               Output Shape         Param #\n",
      "================================================================\n",
      "            Conv2d-1         [32, 64, 112, 112]           9,472\n",
      "       BatchNorm2d-2         [32, 64, 112, 112]             128\n",
      "              ReLU-3         [32, 64, 112, 112]               0\n",
      "         MaxPool2d-4           [32, 64, 56, 56]               0\n",
      "            Conv2d-5           [32, 64, 56, 56]          36,928\n",
      "       BatchNorm2d-6           [32, 64, 56, 56]             128\n",
      "              ReLU-7           [32, 64, 56, 56]               0\n",
      "            Conv2d-8           [32, 64, 56, 56]          36,928\n",
      "       BatchNorm2d-9           [32, 64, 56, 56]             128\n",
      "             ReLU-10           [32, 64, 56, 56]               0\n",
      "    ResidualBlock-11           [32, 64, 56, 56]               0\n",
      "           Conv2d-12           [32, 64, 56, 56]          36,928\n",
      "      BatchNorm2d-13           [32, 64, 56, 56]             128\n",
      "             ReLU-14           [32, 64, 56, 56]               0\n",
      "           Conv2d-15           [32, 64, 56, 56]          36,928\n",
      "      BatchNorm2d-16           [32, 64, 56, 56]             128\n",
      "             ReLU-17           [32, 64, 56, 56]               0\n",
      "    ResidualBlock-18           [32, 64, 56, 56]               0\n",
      "           Conv2d-19           [32, 64, 56, 56]          36,928\n",
      "      BatchNorm2d-20           [32, 64, 56, 56]             128\n",
      "             ReLU-21           [32, 64, 56, 56]               0\n",
      "           Conv2d-22           [32, 64, 56, 56]          36,928\n",
      "      BatchNorm2d-23           [32, 64, 56, 56]             128\n",
      "             ReLU-24           [32, 64, 56, 56]               0\n",
      "    ResidualBlock-25           [32, 64, 56, 56]               0\n",
      "           Conv2d-26          [32, 128, 28, 28]          73,856\n",
      "      BatchNorm2d-27          [32, 128, 28, 28]             256\n",
      "             ReLU-28          [32, 128, 28, 28]               0\n",
      "           Conv2d-29          [32, 128, 28, 28]         147,584\n",
      "      BatchNorm2d-30          [32, 128, 28, 28]             256\n",
      "           Conv2d-31          [32, 128, 28, 28]           8,320\n",
      "      BatchNorm2d-32          [32, 128, 28, 28]             256\n",
      "             ReLU-33          [32, 128, 28, 28]               0\n",
      "    ResidualBlock-34          [32, 128, 28, 28]               0\n",
      "           Conv2d-35          [32, 128, 28, 28]         147,584\n",
      "      BatchNorm2d-36          [32, 128, 28, 28]             256\n",
      "             ReLU-37          [32, 128, 28, 28]               0\n",
      "           Conv2d-38          [32, 128, 28, 28]         147,584\n",
      "      BatchNorm2d-39          [32, 128, 28, 28]             256\n",
      "             ReLU-40          [32, 128, 28, 28]               0\n",
      "    ResidualBlock-41          [32, 128, 28, 28]               0\n",
      "           Conv2d-42          [32, 128, 28, 28]         147,584\n",
      "      BatchNorm2d-43          [32, 128, 28, 28]             256\n",
      "             ReLU-44          [32, 128, 28, 28]               0\n",
      "           Conv2d-45          [32, 128, 28, 28]         147,584\n",
      "      BatchNorm2d-46          [32, 128, 28, 28]             256\n",
      "             ReLU-47          [32, 128, 28, 28]               0\n",
      "    ResidualBlock-48          [32, 128, 28, 28]               0\n",
      "           Conv2d-49          [32, 128, 28, 28]         147,584\n",
      "      BatchNorm2d-50          [32, 128, 28, 28]             256\n",
      "             ReLU-51          [32, 128, 28, 28]               0\n",
      "           Conv2d-52          [32, 128, 28, 28]         147,584\n",
      "      BatchNorm2d-53          [32, 128, 28, 28]             256\n",
      "             ReLU-54          [32, 128, 28, 28]               0\n",
      "    ResidualBlock-55          [32, 128, 28, 28]               0\n",
      "           Conv2d-56          [32, 256, 14, 14]         295,168\n",
      "      BatchNorm2d-57          [32, 256, 14, 14]             512\n",
      "             ReLU-58          [32, 256, 14, 14]               0\n",
      "           Conv2d-59          [32, 256, 14, 14]         590,080\n",
      "      BatchNorm2d-60          [32, 256, 14, 14]             512\n",
      "           Conv2d-61          [32, 256, 14, 14]          33,024\n",
      "      BatchNorm2d-62          [32, 256, 14, 14]             512\n",
      "             ReLU-63          [32, 256, 14, 14]               0\n",
      "    ResidualBlock-64          [32, 256, 14, 14]               0\n",
      "           Conv2d-65          [32, 256, 14, 14]         590,080\n",
      "      BatchNorm2d-66          [32, 256, 14, 14]             512\n",
      "             ReLU-67          [32, 256, 14, 14]               0\n",
      "           Conv2d-68          [32, 256, 14, 14]         590,080\n",
      "      BatchNorm2d-69          [32, 256, 14, 14]             512\n",
      "             ReLU-70          [32, 256, 14, 14]               0\n",
      "    ResidualBlock-71          [32, 256, 14, 14]               0\n",
      "           Conv2d-72          [32, 256, 14, 14]         590,080\n",
      "      BatchNorm2d-73          [32, 256, 14, 14]             512\n",
      "             ReLU-74          [32, 256, 14, 14]               0\n",
      "           Conv2d-75          [32, 256, 14, 14]         590,080\n",
      "      BatchNorm2d-76          [32, 256, 14, 14]             512\n",
      "             ReLU-77          [32, 256, 14, 14]               0\n",
      "    ResidualBlock-78          [32, 256, 14, 14]               0\n",
      "           Conv2d-79          [32, 256, 14, 14]         590,080\n",
      "      BatchNorm2d-80          [32, 256, 14, 14]             512\n",
      "             ReLU-81          [32, 256, 14, 14]               0\n",
      "           Conv2d-82          [32, 256, 14, 14]         590,080\n",
      "      BatchNorm2d-83          [32, 256, 14, 14]             512\n",
      "             ReLU-84          [32, 256, 14, 14]               0\n",
      "    ResidualBlock-85          [32, 256, 14, 14]               0\n",
      "           Conv2d-86          [32, 256, 14, 14]         590,080\n",
      "      BatchNorm2d-87          [32, 256, 14, 14]             512\n",
      "             ReLU-88          [32, 256, 14, 14]               0\n",
      "           Conv2d-89          [32, 256, 14, 14]         590,080\n",
      "      BatchNorm2d-90          [32, 256, 14, 14]             512\n",
      "             ReLU-91          [32, 256, 14, 14]               0\n",
      "    ResidualBlock-92          [32, 256, 14, 14]               0\n",
      "           Conv2d-93          [32, 256, 14, 14]         590,080\n",
      "      BatchNorm2d-94          [32, 256, 14, 14]             512\n",
      "             ReLU-95          [32, 256, 14, 14]               0\n",
      "           Conv2d-96          [32, 256, 14, 14]         590,080\n",
      "      BatchNorm2d-97          [32, 256, 14, 14]             512\n",
      "             ReLU-98          [32, 256, 14, 14]               0\n",
      "    ResidualBlock-99          [32, 256, 14, 14]               0\n",
      "          Conv2d-100            [32, 512, 7, 7]       1,180,160\n",
      "     BatchNorm2d-101            [32, 512, 7, 7]           1,024\n",
      "            ReLU-102            [32, 512, 7, 7]               0\n",
      "          Conv2d-103            [32, 512, 7, 7]       2,359,808\n",
      "     BatchNorm2d-104            [32, 512, 7, 7]           1,024\n",
      "          Conv2d-105            [32, 512, 7, 7]         131,584\n",
      "     BatchNorm2d-106            [32, 512, 7, 7]           1,024\n",
      "            ReLU-107            [32, 512, 7, 7]               0\n",
      "   ResidualBlock-108            [32, 512, 7, 7]               0\n",
      "          Conv2d-109            [32, 512, 7, 7]       2,359,808\n",
      "     BatchNorm2d-110            [32, 512, 7, 7]           1,024\n",
      "            ReLU-111            [32, 512, 7, 7]               0\n",
      "          Conv2d-112            [32, 512, 7, 7]       2,359,808\n",
      "     BatchNorm2d-113            [32, 512, 7, 7]           1,024\n",
      "            ReLU-114            [32, 512, 7, 7]               0\n",
      "   ResidualBlock-115            [32, 512, 7, 7]               0\n",
      "          Conv2d-116            [32, 512, 7, 7]       2,359,808\n",
      "     BatchNorm2d-117            [32, 512, 7, 7]           1,024\n",
      "            ReLU-118            [32, 512, 7, 7]               0\n",
      "          Conv2d-119            [32, 512, 7, 7]       2,359,808\n",
      "     BatchNorm2d-120            [32, 512, 7, 7]           1,024\n",
      "            ReLU-121            [32, 512, 7, 7]               0\n",
      "   ResidualBlock-122            [32, 512, 7, 7]               0\n",
      "       AvgPool2d-123            [32, 512, 1, 1]               0\n",
      "          Linear-124                   [32, 10]           5,130\n",
      "================================================================\n",
      "Total params: 21,298,314\n",
      "Trainable params: 21,298,314\n",
      "Non-trainable params: 0\n",
      "----------------------------------------------------------------\n",
      "Input size (MB): 18.38\n",
      "Forward/backward pass size (MB): 3081.00\n",
      "Params size (MB): 81.25\n",
      "Estimated Total Size (MB): 3180.62\n",
      "----------------------------------------------------------------\n"
     ]
    }
   ],
   "source": [
    "summary(model, input_size=(3,224,224), batch_size=16)"
   ]
  },
  {
   "cell_type": "code",
   "execution_count": 7,
   "metadata": {},
   "outputs": [
    {
     "name": "stderr",
     "output_type": "stream",
     "text": [
      "  0%|          | 0/20 [00:00<?, ?it/s]"
     ]
    },
    {
     "name": "stdout",
     "output_type": "stream",
     "text": [
      "Epoch [1/20], Loss: 1.3763\n"
     ]
    },
    {
     "name": "stderr",
     "output_type": "stream",
     "text": [
      "  5%|▌         | 1/20 [06:13<1:58:25, 373.99s/it]"
     ]
    },
    {
     "name": "stdout",
     "output_type": "stream",
     "text": [
      "Accuracy of the network on the 5000 validation images: 58.74\n",
      "Epoch [2/20], Loss: 0.6140\n"
     ]
    },
    {
     "name": "stderr",
     "output_type": "stream",
     "text": [
      " 10%|█         | 2/20 [12:31<1:52:49, 376.07s/it]"
     ]
    },
    {
     "name": "stdout",
     "output_type": "stream",
     "text": [
      "Accuracy of the network on the 5000 validation images: 69.34\n",
      "Epoch [3/20], Loss: 0.8758\n"
     ]
    },
    {
     "name": "stderr",
     "output_type": "stream",
     "text": [
      " 15%|█▌        | 3/20 [18:47<1:46:34, 376.15s/it]"
     ]
    },
    {
     "name": "stdout",
     "output_type": "stream",
     "text": [
      "Accuracy of the network on the 5000 validation images: 73.46\n",
      "Epoch [4/20], Loss: 0.4291\n"
     ]
    },
    {
     "name": "stderr",
     "output_type": "stream",
     "text": [
      " 20%|██        | 4/20 [25:01<1:40:02, 375.19s/it]"
     ]
    },
    {
     "name": "stdout",
     "output_type": "stream",
     "text": [
      "Accuracy of the network on the 5000 validation images: 78.0\n",
      "Epoch [5/20], Loss: 0.1311\n"
     ]
    },
    {
     "name": "stderr",
     "output_type": "stream",
     "text": [
      " 25%|██▌       | 5/20 [31:18<1:33:57, 375.85s/it]"
     ]
    },
    {
     "name": "stdout",
     "output_type": "stream",
     "text": [
      "Accuracy of the network on the 5000 validation images: 76.82\n",
      "Epoch [6/20], Loss: 0.7074\n"
     ]
    },
    {
     "name": "stderr",
     "output_type": "stream",
     "text": [
      " 30%|███       | 6/20 [37:34<1:27:44, 376.03s/it]"
     ]
    },
    {
     "name": "stdout",
     "output_type": "stream",
     "text": [
      "Accuracy of the network on the 5000 validation images: 82.44\n",
      "Epoch [7/20], Loss: 0.3856\n"
     ]
    },
    {
     "name": "stderr",
     "output_type": "stream",
     "text": [
      " 35%|███▌      | 7/20 [43:45<1:21:06, 374.33s/it]"
     ]
    },
    {
     "name": "stdout",
     "output_type": "stream",
     "text": [
      "Accuracy of the network on the 5000 validation images: 81.06\n",
      "Epoch [8/20], Loss: 0.2301\n"
     ]
    },
    {
     "name": "stderr",
     "output_type": "stream",
     "text": [
      " 40%|████      | 8/20 [49:58<1:14:46, 373.85s/it]"
     ]
    },
    {
     "name": "stdout",
     "output_type": "stream",
     "text": [
      "Accuracy of the network on the 5000 validation images: 82.32\n",
      "Epoch [9/20], Loss: 0.5839\n"
     ]
    },
    {
     "name": "stderr",
     "output_type": "stream",
     "text": [
      " 45%|████▌     | 9/20 [56:12<1:08:32, 373.85s/it]"
     ]
    },
    {
     "name": "stdout",
     "output_type": "stream",
     "text": [
      "Accuracy of the network on the 5000 validation images: 80.34\n",
      "Epoch [10/20], Loss: 0.1501\n"
     ]
    },
    {
     "name": "stderr",
     "output_type": "stream",
     "text": [
      " 50%|█████     | 10/20 [1:02:24<1:02:12, 373.28s/it]"
     ]
    },
    {
     "name": "stdout",
     "output_type": "stream",
     "text": [
      "Accuracy of the network on the 5000 validation images: 79.84\n",
      "Epoch [11/20], Loss: 0.4623\n"
     ]
    },
    {
     "name": "stderr",
     "output_type": "stream",
     "text": [
      " 55%|█████▌    | 11/20 [1:08:34<55:50, 372.25s/it]  "
     ]
    },
    {
     "name": "stdout",
     "output_type": "stream",
     "text": [
      "Accuracy of the network on the 5000 validation images: 79.12\n",
      "Epoch [12/20], Loss: 0.5279\n"
     ]
    },
    {
     "name": "stderr",
     "output_type": "stream",
     "text": [
      " 60%|██████    | 12/20 [1:14:44<49:31, 371.49s/it]"
     ]
    },
    {
     "name": "stdout",
     "output_type": "stream",
     "text": [
      "Accuracy of the network on the 5000 validation images: 83.02\n",
      "Epoch [13/20], Loss: 0.0579\n"
     ]
    },
    {
     "name": "stderr",
     "output_type": "stream",
     "text": [
      " 65%|██████▌   | 13/20 [1:20:53<43:16, 370.90s/it]"
     ]
    },
    {
     "name": "stdout",
     "output_type": "stream",
     "text": [
      "Accuracy of the network on the 5000 validation images: 82.4\n",
      "Epoch [14/20], Loss: 0.1985\n"
     ]
    },
    {
     "name": "stderr",
     "output_type": "stream",
     "text": [
      " 70%|███████   | 14/20 [1:27:02<37:02, 370.42s/it]"
     ]
    },
    {
     "name": "stdout",
     "output_type": "stream",
     "text": [
      "Accuracy of the network on the 5000 validation images: 81.68\n",
      "Epoch [15/20], Loss: 0.2281\n"
     ]
    },
    {
     "name": "stderr",
     "output_type": "stream",
     "text": [
      " 75%|███████▌  | 15/20 [1:33:13<30:52, 370.41s/it]"
     ]
    },
    {
     "name": "stdout",
     "output_type": "stream",
     "text": [
      "Accuracy of the network on the 5000 validation images: 81.08\n",
      "Epoch [16/20], Loss: 0.3019\n"
     ]
    },
    {
     "name": "stderr",
     "output_type": "stream",
     "text": [
      " 80%|████████  | 16/20 [1:39:23<24:40, 370.23s/it]"
     ]
    },
    {
     "name": "stdout",
     "output_type": "stream",
     "text": [
      "Accuracy of the network on the 5000 validation images: 83.82\n",
      "Epoch [17/20], Loss: 0.2785\n"
     ]
    },
    {
     "name": "stderr",
     "output_type": "stream",
     "text": [
      " 85%|████████▌ | 17/20 [1:45:32<18:30, 370.12s/it]"
     ]
    },
    {
     "name": "stdout",
     "output_type": "stream",
     "text": [
      "Accuracy of the network on the 5000 validation images: 81.74\n",
      "Epoch [18/20], Loss: 0.2078\n"
     ]
    },
    {
     "name": "stderr",
     "output_type": "stream",
     "text": [
      " 90%|█████████ | 18/20 [1:51:42<12:20, 370.06s/it]"
     ]
    },
    {
     "name": "stdout",
     "output_type": "stream",
     "text": [
      "Accuracy of the network on the 5000 validation images: 80.68\n",
      "Epoch [19/20], Loss: 0.1852\n"
     ]
    },
    {
     "name": "stderr",
     "output_type": "stream",
     "text": [
      " 95%|█████████▌| 19/20 [1:57:52<06:09, 369.94s/it]"
     ]
    },
    {
     "name": "stdout",
     "output_type": "stream",
     "text": [
      "Accuracy of the network on the 5000 validation images: 83.92\n",
      "Epoch [20/20], Loss: 0.5332\n"
     ]
    },
    {
     "name": "stderr",
     "output_type": "stream",
     "text": [
      "100%|██████████| 20/20 [2:04:04<00:00, 372.23s/it]"
     ]
    },
    {
     "name": "stdout",
     "output_type": "stream",
     "text": [
      "Accuracy of the network on the 5000 validation images: 83.74\n"
     ]
    },
    {
     "name": "stderr",
     "output_type": "stream",
     "text": [
      "\n"
     ]
    }
   ],
   "source": [
    "from tqdm.auto import tqdm\n",
    "\n",
    "total_step = len(train_loader)\n",
    "\n",
    "for epoch in tqdm(range(num_epochs)):\n",
    "    for i, (images, labels) in enumerate(train_loader):  \n",
    "\n",
    "        model.train()\n",
    "        images = images.to(device)\n",
    "        labels = labels.to(device)\n",
    "\n",
    "        outputs = model(images)\n",
    "        loss = criterion(outputs, labels)\n",
    "        optimizer.zero_grad()\n",
    "        loss.backward()\n",
    "        optimizer.step()\n",
    "\n",
    "        del images, labels, outputs\n",
    "        torch.cuda.empty_cache()\n",
    "        gc.collect()\n",
    "\n",
    "    print (f'Epoch [{epoch+1}/{num_epochs}], Loss: {loss.item():.4f}')\n",
    "            \n",
    "    model.eval()\n",
    "    with torch.inference_mode():\n",
    "        correct = 0\n",
    "        total = 0\n",
    "        for images, labels in valid_loader:\n",
    "            images = images.to(device)\n",
    "            labels = labels.to(device)\n",
    "            outputs = model(images)\n",
    "            _, predicted = torch.max(outputs.data, 1)\n",
    "            total += labels.size(0)\n",
    "            correct += (predicted == labels).sum().item()\n",
    "            del images, labels, outputs\n",
    "    \n",
    "        print(f'Accuracy of the network on the {5000} validation images: {100 * correct / total}') "
   ]
  },
  {
   "cell_type": "code",
   "execution_count": 9,
   "metadata": {},
   "outputs": [
    {
     "name": "stdout",
     "output_type": "stream",
     "text": [
      "Accuracy of the network on the 10000 test images: 82.4 %\n"
     ]
    }
   ],
   "source": [
    "model.eval()\n",
    "with torch.inference_mode():\n",
    "    correct = 0\n",
    "    total = 0\n",
    "    for images, labels in test_loader:\n",
    "        images = images.to(device)\n",
    "        labels = labels.to(device)\n",
    "        outputs = model(images)\n",
    "        _, predicted = torch.max(outputs.data, 1)\n",
    "        total += labels.size(0)\n",
    "        correct += (predicted == labels).sum().item()\n",
    "        del images, labels, outputs\n",
    "\n",
    "    print('Accuracy of the network on the {} test images: {} %'.format(10000, 100 * correct / total))   "
   ]
  }
 ],
 "metadata": {
  "kernelspec": {
   "display_name": "Python 3",
   "language": "python",
   "name": "python3"
  },
  "language_info": {
   "codemirror_mode": {
    "name": "ipython",
    "version": 3
   },
   "file_extension": ".py",
   "mimetype": "text/x-python",
   "name": "python",
   "nbconvert_exporter": "python",
   "pygments_lexer": "ipython3",
   "version": "3.11.7"
  }
 },
 "nbformat": 4,
 "nbformat_minor": 2
}
