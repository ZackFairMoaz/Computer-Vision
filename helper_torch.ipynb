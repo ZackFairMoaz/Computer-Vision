{
 "cells": [
  {
   "cell_type": "code",
   "execution_count": 2,
   "metadata": {},
   "outputs": [],
   "source": [
    "import numpy as np\n",
    "import torch\n",
    "from torch import nn\n",
    "from torchvision import transforms, datasets\n",
    "from torch.utils.data import DataLoader"
   ]
  },
  {
   "cell_type": "code",
   "execution_count": 3,
   "metadata": {},
   "outputs": [],
   "source": [
    "# calc mean and std\n",
    "\n",
    "def mean_std_calc(dataset_path, len_img=(224,224)):\n",
    "    \"\"\"\n",
    "    Calculates and return the Mean and Standard deviation of a image dataset\n",
    "\n",
    "    Args:\n",
    "    dataset_path (str): String containing path to dataset\n",
    "    len_img (tuple): Tuple containing length and width of the image\n",
    "    \n",
    "    Returns:\n",
    "    Mean and std values for transforms.Normalize\n",
    "    \"\"\"\n",
    "\n",
    "    calc_trans = transforms.Compose(\n",
    "        transforms.ToPILImage(),\n",
    "        transforms.ToTensor()\n",
    "    )\n",
    "    dataloader = DataLoader(dataset_path, batch_size=32, shuffle=False, transforms=calc_trans)\n",
    "\n",
    "    mean = []\n",
    "    std = []\n",
    "    std1 = []\n",
    "\n",
    "    for i, (img, label) in enumerate(dataloader, 0):\n",
    "        img_shape = img.numpy()\n",
    "        print(img_shape.size())\n",
    "\n",
    "        mean.append(np.mean(img_shape, axis=(0,2,3)))\n",
    "        std.append(np.mean(img_shape, axis=(0,2,3)))\n",
    "        std1.append(np.mean(img_shape, axis=(0,2,3), ddof=1))\n",
    "\n",
    "    mean = np.array(mean).mean(axis=0)\n",
    "    std = np.array(std).mean(axis=0)\n",
    "    std1 = np.array(std1).mean(axis=0)\n",
    "\n",
    "    return ()"
   ]
  },
  {
   "cell_type": "code",
   "execution_count": null,
   "metadata": {},
   "outputs": [],
   "source": []
  }
 ],
 "metadata": {
  "kernelspec": {
   "display_name": "Python 3",
   "language": "python",
   "name": "python3"
  },
  "language_info": {
   "codemirror_mode": {
    "name": "ipython",
    "version": 3
   },
   "file_extension": ".py",
   "mimetype": "text/x-python",
   "name": "python",
   "nbconvert_exporter": "python",
   "pygments_lexer": "ipython3",
   "version": "3.11.7"
  }
 },
 "nbformat": 4,
 "nbformat_minor": 2
}
