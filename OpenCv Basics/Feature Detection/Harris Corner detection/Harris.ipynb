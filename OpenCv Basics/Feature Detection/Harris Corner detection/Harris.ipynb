{
 "cells": [
  {
   "cell_type": "code",
   "execution_count": 2,
   "metadata": {},
   "outputs": [],
   "source": [
    "import cv2 \n",
    "import numpy as np "
   ]
  },
  {
   "cell_type": "code",
   "execution_count": 14,
   "metadata": {},
   "outputs": [],
   "source": [
    "img = cv2.imread(\"lena.png\")\n",
    "gray_img = cv2.cvtColor(img, cv2.COLOR_BGR2GRAY)\n",
    "\n",
    "operatedImage = np.float32(gray_img) \n",
    "\n",
    "dest = cv2.cornerHarris(operatedImage, 2, 5, 0.2)\n",
    "dest = cv2.dilate(dest, None)\n",
    "\n",
    "img[dest > 0.01 * dest.max()]=[0, 0, 255] \n",
    "  \n",
    "# the window showing output image with corners \n",
    "cv2.imshow('Image with Borders', img) \n",
    "  \n",
    "# De-allocate any associated memory usage  \n",
    "if cv2.waitKey(0) & 0xff == 27: \n",
    "    cv2.destroyAllWindows() "
   ]
  }
 ],
 "metadata": {
  "kernelspec": {
   "display_name": "Python 3",
   "language": "python",
   "name": "python3"
  },
  "language_info": {
   "codemirror_mode": {
    "name": "ipython",
    "version": 3
   },
   "file_extension": ".py",
   "mimetype": "text/x-python",
   "name": "python",
   "nbconvert_exporter": "python",
   "pygments_lexer": "ipython3",
   "version": "3.11.7"
  }
 },
 "nbformat": 4,
 "nbformat_minor": 2
}
