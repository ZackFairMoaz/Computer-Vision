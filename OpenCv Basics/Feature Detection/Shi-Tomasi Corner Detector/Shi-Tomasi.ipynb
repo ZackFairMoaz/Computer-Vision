{
 "cells": [
  {
   "cell_type": "code",
   "execution_count": 20,
   "metadata": {},
   "outputs": [],
   "source": [
    "import cv2\n",
    "\n",
    "img = cv2.imread('lena.png')\n",
    "\n",
    "t_lower = 50 # Lower Threshold \n",
    "t_upper = 100 # Upper threshold \n",
    "aperture_size = 3 # Aperture size \n",
    "L2Gradient = True # Boolean \n",
    "  \n",
    "# Applying the Canny Edge filter with L2Gradient = True \n",
    "edge = cv2.Canny(img, t_lower, t_upper, L2gradient = L2Gradient,apertureSize=aperture_size) \n",
    "\n",
    "cv2.imshow('original', img) \n",
    "cv2.imshow('edge', edge) \n",
    "cv2.waitKey(0) \n",
    "cv2.destroyAllWindows() "
   ]
  }
 ],
 "metadata": {
  "kernelspec": {
   "display_name": "Python 3",
   "language": "python",
   "name": "python3"
  },
  "language_info": {
   "codemirror_mode": {
    "name": "ipython",
    "version": 3
   },
   "file_extension": ".py",
   "mimetype": "text/x-python",
   "name": "python",
   "nbconvert_exporter": "python",
   "pygments_lexer": "ipython3",
   "version": "3.11.7"
  }
 },
 "nbformat": 4,
 "nbformat_minor": 2
}
